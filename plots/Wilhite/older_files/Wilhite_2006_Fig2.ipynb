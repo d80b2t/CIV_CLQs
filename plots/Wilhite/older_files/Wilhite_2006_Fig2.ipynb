{
 "cells": [
  {
   "cell_type": "code",
   "execution_count": 1,
   "metadata": {},
   "outputs": [
    {
     "name": "stderr",
     "output_type": "stream",
     "text": [
      "/Users/npr1/anaconda3/lib/python3.6/site-packages/matplotlib/__init__.py:886: MatplotlibDeprecationWarning: \n",
      "examples.directory is deprecated; in the future, examples will be found relative to the 'datapath' directory.\n",
      "  \"found relative to the 'datapath' directory.\".format(key))\n"
     ]
    }
   ],
   "source": [
    "import numpy as np\n",
    "import seaborn as sns\n",
    "import matplotlib.pyplot as plt\n",
    "\n",
    "from matplotlib.patches import Rectangle\n",
    "from matplotlib         import colors as mcolors\n",
    "\n",
    "from astropy.io import ascii\n",
    "from astropy.io import fits\n",
    "\n",
    "from matplotlib.gridspec import GridSpec"
   ]
  },
  {
   "cell_type": "code",
   "execution_count": 2,
   "metadata": {},
   "outputs": [],
   "source": [
    "\n",
    "Wilhite_path = '/cos_pc19a_npr/data/SDSS/Wilhite_CIV/'\n",
    "Wilhite_file = 'Wilhite_2006_combined_Tables.dat'\n",
    "Wilhite_input = Wilhite_path+Wilhite_file\n",
    "\n",
    "data = ascii.read(Wilhite_input) \n"
   ]
  },
  {
   "cell_type": "code",
   "execution_count": 19,
   "metadata": {},
   "outputs": [],
   "source": [
    "#data"
   ]
  },
  {
   "cell_type": "code",
   "execution_count": 18,
   "metadata": {},
   "outputs": [
    {
     "data": {
      "text/plain": [
       "[<matplotlib.lines.Line2D at 0x122d84358>]"
      ]
     },
     "execution_count": 18,
     "metadata": {},
     "output_type": "execute_result"
    },
    {
     "data": {
      "image/png": "[encoded data removed]",
      "text/plain": [
       "<Figure size 800x480 with 1 Axes>"
      ]
     },
     "metadata": {},
     "output_type": "display_data"
    }
   ],
   "source": [
    "## Setting up the plot\n",
    "fig, ax = plt.subplots(figsize=(10, 6), dpi=80, facecolor='w', edgecolor='k')\n",
    "\n",
    "## Adjusting the Whitespace for the plots\n",
    "left   = 0.18   # the left side of the subplots of the figure\n",
    "right  = 0.98   # the right side of the subplots of the figure\n",
    "bottom = 0.18   # the bottom of the subplots of the figure\n",
    "top    = 0.96   # the top of the subplots of the figure\n",
    "wspace = 0.26   # the amount of width reserved for blank space between subplots\n",
    "hspace = 0.06   # the amount of height reserved for white space between subplots\n",
    "plt.subplots_adjust(left=left, bottom=bottom, right=right, top=top, wspace=wspace, hspace=hspace)\n",
    " \n",
    "## Some NPR defaults\n",
    "ms              = 10\n",
    "alpha           = 1.0\n",
    "fontsize        = 16\n",
    "labelsize       = fontsize\n",
    "tickwidth       = 2.0\n",
    "linewidth       = 2.4\n",
    "tickwidth       = 2.0\n",
    "ticklength      = 6.0\n",
    "ticklabelsize   = labelsize\n",
    "majorticklength = 12\n",
    "minorticklength = 6\n",
    "\n",
    "\n",
    "ax.plot((data['HiSNRlineFlux']/data['LoSNRlineFlux']), (data['HiSNRlineWidth']/data['LoSNRlineWidth']), \n",
    "       'o', ms=ms)\n"
   ]
  },
  {
   "cell_type": "code",
   "execution_count": 8,
   "metadata": {},
   "outputs": [
    {
     "data": {
      "text/plain": [
       "[<matplotlib.lines.Line2D at 0x120095978>]"
      ]
     },
     "execution_count": 8,
     "metadata": {},
     "output_type": "execute_result"
    }
   ],
   "source": [
    "ax.plot(data['HiSNRlineWidth'], data['LoSNRlineWidth'])"
   ]
  },
  {
   "cell_type": "code",
   "execution_count": 9,
   "metadata": {},
   "outputs": [],
   "source": [
    "plt.show()"
   ]
  },
  {
   "cell_type": "code",
   "execution_count": null,
   "metadata": {},
   "outputs": [],
   "source": []
  }
 ],
 "metadata": {
  "kernelspec": {
   "display_name": "Python 3",
   "language": "python",
   "name": "python3"
  },
  "language_info": {
   "codemirror_mode": {
    "name": "ipython",
    "version": 3
   },
   "file_extension": ".py",
   "mimetype": "text/x-python",
   "name": "python",
   "nbconvert_exporter": "python",
   "pygments_lexer": "ipython3",
   "version": "3.6.9"
  }
 },
 "nbformat": 4,
 "nbformat_minor": 2
}
